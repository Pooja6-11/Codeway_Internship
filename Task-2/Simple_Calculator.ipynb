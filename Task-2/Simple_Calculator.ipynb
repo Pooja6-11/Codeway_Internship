{
 "cells": [
  {
   "cell_type": "code",
   "execution_count": 1,
   "id": "9ed432f4",
   "metadata": {},
   "outputs": [],
   "source": [
    "#Task-2\n",
    "#Simple Calculator\n",
    "#Design a simple calculator with basic arithmetic operations.\n",
    "#Prompt theuser to input two numbers and an operation choice. \n",
    "#Perform thecalculation and display the result."
   ]
  },
  {
   "cell_type": "code",
   "execution_count": 2,
   "id": "209b769f",
   "metadata": {},
   "outputs": [
    {
     "name": "stdout",
     "output_type": "stream",
     "text": [
      "Simple Calculator\n",
      "Enter First Number Here:2\n",
      "Enter Second Number Here:1\n",
      "Press 1 for Addition \n",
      "Press 2 for Substraction \n",
      "Press 3 for Multiplication \n",
      "Press 4 for Division\n",
      "Enter the choice between 1-4: 1\n",
      "The addition of  given two numbers is: 3.0\n"
     ]
    }
   ],
   "source": [
    "print('Simple Calculator')\n",
    "\n",
    "num1= float(input('Enter First Number Here:'))\n",
    "num2=float(input('Enter Second Number Here:'))\n",
    "\n",
    "print('Press 1 for Addition \\nPress 2 for Substraction \\nPress 3 for Multiplication \\nPress 4 for Division')\n",
    "\n",
    "choice = int (input(\"Enter the choice between 1-4: \"))\n",
    "\n",
    "if choice == 1:\n",
    "    print('The addition of  given two numbers is:',num1 + num2)\n",
    "elif choice == 2:\n",
    "    print('The substraction of  given two numbers is:',num1 - num2)\n",
    "elif choice == 3:\n",
    "    print('The multiplication of  given two numbers is:',num1 * num2)\n",
    "elif choice == 4:\n",
    "    print('The division of  given two numbers is:',num1 / num2)\n",
    "else:\n",
    "    print('Invalid Output')\n",
    "\n",
    "    "
   ]
  }
 ],
 "metadata": {
  "kernelspec": {
   "display_name": "Python 3 (ipykernel)",
   "language": "python",
   "name": "python3"
  },
  "language_info": {
   "codemirror_mode": {
    "name": "ipython",
    "version": 3
   },
   "file_extension": ".py",
   "mimetype": "text/x-python",
   "name": "python",
   "nbconvert_exporter": "python",
   "pygments_lexer": "ipython3",
   "version": "3.9.13"
  }
 },
 "nbformat": 4,
 "nbformat_minor": 5
}
