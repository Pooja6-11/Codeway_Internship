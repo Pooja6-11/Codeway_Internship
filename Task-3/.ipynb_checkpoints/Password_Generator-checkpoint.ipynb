{
 "cells": [
  {
   "cell_type": "code",
   "execution_count": null,
   "id": "25432bd8",
   "metadata": {},
   "outputs": [],
   "source": [
    "#Task-3\n",
    "#Password Generator\n",
    "#A password generator is a useful tool that generates strong and random passwords for users.\n",
    "#This project aims to create a password generator application using Python,allowing users to specify the length and complexity of the password.\n",
    "#User Input: Prompt the user to specify the desired length of the password.\n",
    "#Generate Password: Use a combination of random characters to generate a password ofthe specified length.\n",
    "#Display the Password: Print the generated password on the screen."
   ]
  },
  {
   "cell_type": "code",
   "execution_count": 2,
   "id": "bd54a5a5",
   "metadata": {},
   "outputs": [],
   "source": [
    "import random\n",
    "import string\n",
    "import tkinter as tk\n",
    "from tkinter import Label, Entry, Button, messagebox\n",
    "\n",
    "class PasswordGeneratorApp:\n",
    "    def __init__(self, root):\n",
    "        self.root = root\n",
    "        self.root.title(\"Password Generator\")\n",
    "\n",
    "        self.create_widgets()\n",
    "\n",
    "    def create_widgets(self):\n",
    "        label_length = Label(self.root, text=\"Enter the desired length of the password:\")\n",
    "        label_length.pack(pady=10)\n",
    "\n",
    "        self.entry_length = Entry(self.root)\n",
    "        self.entry_length.pack(pady=10)\n",
    "\n",
    "        generate_button = Button(self.root, text=\"Generate Password\", command=self.generate_password)\n",
    "        generate_button.pack(pady=10)\n",
    "\n",
    "    def generate_password(self):\n",
    "        try:\n",
    "            length = int(self.entry_length.get())\n",
    "        except ValueError:\n",
    "            messagebox.showerror(\"Error\", \"Invalid input. Please enter a valid number.\")\n",
    "            return\n",
    "\n",
    "        if length <= 0:\n",
    "            messagebox.showerror(\"Error\", \"Invalid length. Please enter a positive number.\")\n",
    "            return\n",
    "\n",
    "        password = self.generate_random_password(length)\n",
    "\n",
    "        messagebox.showinfo(\"Generated Password\", f\"Generated Password: {password}\")\n",
    "\n",
    "    def generate_random_password(self, length):\n",
    "        characters = string.ascii_letters + string.digits + string.punctuation\n",
    "        password = ''.join(random.choice(characters) for _ in range(length))\n",
    "        return password\n",
    "\n",
    "if __name__ == \"__main__\":\n",
    "    root = tk.Tk()\n",
    "    app = PasswordGeneratorApp(root)\n",
    "    root.mainloop()\n"
   ]
  }
 ],
 "metadata": {
  "kernelspec": {
   "display_name": "Python 3 (ipykernel)",
   "language": "python",
   "name": "python3"
  },
  "language_info": {
   "codemirror_mode": {
    "name": "ipython",
    "version": 3
   },
   "file_extension": ".py",
   "mimetype": "text/x-python",
   "name": "python",
   "nbconvert_exporter": "python",
   "pygments_lexer": "ipython3",
   "version": "3.9.13"
  }
 },
 "nbformat": 4,
 "nbformat_minor": 5
}
